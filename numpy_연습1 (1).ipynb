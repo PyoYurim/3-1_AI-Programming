{
  "nbformat": 4,
  "nbformat_minor": 0,
  "metadata": {
    "colab": {
      "provenance": []
    },
    "kernelspec": {
      "name": "python3",
      "display_name": "Python 3"
    },
    "language_info": {
      "name": "python"
    }
  },
  "cells": [
    {
      "cell_type": "markdown",
      "source": [
        "아래 문제들은 결과 출력까시 실행 후 노트북 파일을 제출"
      ],
      "metadata": {
        "id": "vydh4AaATqYd"
      }
    },
    {
      "cell_type": "markdown",
      "source": [
        "1.1차원이면서 크기가 10이고 0으로 채워진 배열을 생성하고 다섯번째 요소를 1로 설정하는 코드를 작성하시오. "
      ],
      "metadata": {
        "id": "592OJ3VlSerQ"
      }
    },
    {
      "cell_type": "code",
      "source": [
        "import numpy as np\n",
        "a = np.zeros(10, dtype = int)\n",
        "a[4:5] = 1\n",
        "a"
      ],
      "metadata": {
        "id": "jZvIdvJDOyVY",
        "colab": {
          "base_uri": "https://localhost:8080/"
        },
        "outputId": "e489f1d0-f081-4166-fe61-8d78bfb052d7"
      },
      "execution_count": null,
      "outputs": [
        {
          "output_type": "execute_result",
          "data": {
            "text/plain": [
              "array([0, 0, 0, 0, 1, 0, 0, 0, 0, 0])"
            ]
          },
          "metadata": {},
          "execution_count": 9
        }
      ]
    },
    {
      "cell_type": "markdown",
      "source": [
        "2.아래와 같은 배열을 생성하는 code를 작성하시오.\n",
        "arange 사용\n",
        "\n",
        "[3,6,9,12,15,18,21]"
      ],
      "metadata": {
        "id": "ZVFhVdHiXGs5"
      }
    },
    {
      "cell_type": "code",
      "source": [
        "import numpy as np\n",
        "a = np.arange(3, 22, 3)\n",
        "a"
      ],
      "metadata": {
        "id": "Rtng0qrqXXy8",
        "colab": {
          "base_uri": "https://localhost:8080/"
        },
        "outputId": "cd81148a-3ac5-4b63-e1d0-9661ee52a1e3"
      },
      "execution_count": 39,
      "outputs": [
        {
          "output_type": "execute_result",
          "data": {
            "text/plain": [
              "array([ 3,  6,  9, 12, 15, 18, 21])"
            ]
          },
          "metadata": {},
          "execution_count": 39
        }
      ]
    },
    {
      "cell_type": "markdown",
      "source": [
        "3.0부터 8까지의 값을 가지고 크기가 3x3인 행렬을 arange와 reshape 명령어를 이용하여 생성 하시오. \n",
        "\n",
        "[[0 1 2]    \n",
        " [3,4,5]  \n",
        " [6,7,8]]\n"
      ],
      "metadata": {
        "id": "Q7f9SpttTHt5"
      }
    },
    {
      "cell_type": "code",
      "source": [
        "import numpy as np\n",
        "a = np.arange(0, 9, 1)\n",
        "a.reshape(3, 3)"
      ],
      "metadata": {
        "id": "2SXQGKL5Tzmd",
        "colab": {
          "base_uri": "https://localhost:8080/"
        },
        "outputId": "cf9e473d-535a-4133-c454-78203c39ed23"
      },
      "execution_count": 38,
      "outputs": [
        {
          "output_type": "execute_result",
          "data": {
            "text/plain": [
              "array([[0, 1, 2],\n",
              "       [3, 4, 5],\n",
              "       [6, 7, 8]])"
            ]
          },
          "metadata": {},
          "execution_count": 38
        }
      ]
    },
    {
      "cell_type": "markdown",
      "source": [
        "4.난수로 채워진 3x3 배열을 생성하고 최대값과 최소값을 구하는 코드를 작성 하시오"
      ],
      "metadata": {
        "id": "3KGmXq0_T_Sl"
      }
    },
    {
      "cell_type": "code",
      "source": [
        "import numpy as np\n",
        "a = np.random.rand(3, 3)\n",
        "np.max(a), np.min(a)"
      ],
      "metadata": {
        "id": "xbyKcM1AUX7t",
        "colab": {
          "base_uri": "https://localhost:8080/"
        },
        "outputId": "c71fd96b-0ee4-4ab7-f5d5-fc7dc2bebe94"
      },
      "execution_count": 37,
      "outputs": [
        {
          "output_type": "execute_result",
          "data": {
            "text/plain": [
              "(0.8022837358864521, 0.12196426367125623)"
            ]
          },
          "metadata": {},
          "execution_count": 37
        }
      ]
    },
    {
      "cell_type": "markdown",
      "source": [
        "5.다음과 같은 행렬을 만드는 code를 작성하시오. \n",
        "(ones 함수와 slicing 이용)\n",
        "\n",
        "[[1,1,1,0,0]    \n",
        "  [1,1,1,0,0]  \n",
        "  [1,1,1,0,0]   \n",
        "  [1,1,1,1,1]] "
      ],
      "metadata": {
        "id": "wdJDT55-VCw8"
      }
    },
    {
      "cell_type": "code",
      "source": [
        "import numpy as np\n",
        "a = np.ones((4, 5), dtype = int)\n",
        "a[:3, 3:5] = 0\n",
        "a"
      ],
      "metadata": {
        "id": "U16T9gcHVwkF",
        "colab": {
          "base_uri": "https://localhost:8080/"
        },
        "outputId": "ddec3db1-8708-4931-c267-8b05085b12a5"
      },
      "execution_count": 36,
      "outputs": [
        {
          "output_type": "execute_result",
          "data": {
            "text/plain": [
              "array([[1, 1, 1, 0, 0],\n",
              "       [1, 1, 1, 0, 0],\n",
              "       [1, 1, 1, 0, 0],\n",
              "       [1, 1, 1, 1, 1]])"
            ]
          },
          "metadata": {},
          "execution_count": 36
        }
      ]
    },
    {
      "cell_type": "markdown",
      "source": [
        "6.5x5 행렬을 만들어 체스보드 패턴으로 채워보자\n",
        "( zeros 함수와 slicing 이용)\n",
        "\n",
        "[[0,1,0,1,0]  \n",
        "[1,0,1,0,1]  \n",
        "[0,1,0,1,0]  \n",
        "[1,0,1,0,1]  \n",
        "[0,1,0,1,0]]  "
      ],
      "metadata": {
        "id": "k5AJ3OVbV0oC"
      }
    },
    {
      "cell_type": "code",
      "source": [
        "import numpy as np\n",
        "a = np. zeros((5,5), dtype = int)\n",
        "a[::2, 1::2] = 1\n",
        "a[1::2, ::2] = 1\n",
        "a"
      ],
      "metadata": {
        "colab": {
          "base_uri": "https://localhost:8080/"
        },
        "id": "fEBR03AoPfH0",
        "outputId": "3acd957d-39bc-4fd1-e79a-36a93d98ffbf"
      },
      "execution_count": 35,
      "outputs": [
        {
          "output_type": "execute_result",
          "data": {
            "text/plain": [
              "array([[0, 1, 0, 1, 0],\n",
              "       [1, 0, 1, 0, 1],\n",
              "       [0, 1, 0, 1, 0],\n",
              "       [1, 0, 1, 0, 1],\n",
              "       [0, 1, 0, 1, 0]])"
            ]
          },
          "metadata": {},
          "execution_count": 35
        }
      ]
    }
  ]
}