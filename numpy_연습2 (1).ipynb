{
  "nbformat": 4,
  "nbformat_minor": 0,
  "metadata": {
    "colab": {
      "provenance": []
    },
    "kernelspec": {
      "name": "python3",
      "display_name": "Python 3"
    },
    "language_info": {
      "name": "python"
    }
  },
  "cells": [
    {
      "cell_type": "markdown",
      "source": [
        "아래 문제들은 결과 출력까지 실행 후 ipynb  파일과 .py 파일로 제출  \n",
        "print(b)의 결과가 다음과 같이 되는 code를 작성하시오..  \n",
        "b는 a를 이용하여 정의 함.   "
      ],
      "metadata": {
        "id": "vydh4AaATqYd"
      }
    },
    {
      "cell_type": "markdown",
      "source": [
        "1.   \n",
        "[[ 0  1  2  3  4  5  6  7  8  9 10 11 12 13 14 15]]\n"
      ],
      "metadata": {
        "id": "oaQJW-vjZYqp"
      }
    },
    {
      "cell_type": "markdown",
      "source": [],
      "metadata": {
        "id": "MNBkzpHeQG12"
      }
    },
    {
      "cell_type": "code",
      "source": [
        "import numpy as np\n",
        "a=np.arange(16)\n",
        "\n",
        "b=a.reshape(1,16)\n",
        "\n",
        "print(a)\n",
        "print(b)"
      ],
      "metadata": {
        "id": "s7WN7jUqZcjd",
        "colab": {
          "base_uri": "https://localhost:8080/"
        },
        "outputId": "0a338f9e-69f6-49b0-f109-c42cc0f7dd4a"
      },
      "execution_count": 1,
      "outputs": [
        {
          "output_type": "stream",
          "name": "stdout",
          "text": [
            "[ 0  1  2  3  4  5  6  7  8  9 10 11 12 13 14 15]\n",
            "[[ 0  1  2  3  4  5  6  7  8  9 10 11 12 13 14 15]]\n"
          ]
        }
      ]
    },
    {
      "cell_type": "markdown",
      "source": [
        "2.   \n",
        "[  [ 0  1  2  3  4  5  6  7]  \n",
        "   [ 8  9 10 11 12 13 14 15]  ]\n"
      ],
      "metadata": {
        "id": "D5qqUBjKZqsG"
      }
    },
    {
      "cell_type": "code",
      "source": [
        "import numpy as np\n",
        "a=np.arange(16)\n",
        "b=a.reshape(2,8)\n",
        "\n",
        "\n",
        "print(a)\n",
        "print(b)"
      ],
      "metadata": {
        "id": "JspbrxxJZnqY",
        "colab": {
          "base_uri": "https://localhost:8080/"
        },
        "outputId": "56e4d6b5-b9f4-46fa-c4de-db34e38f915e"
      },
      "execution_count": null,
      "outputs": [
        {
          "output_type": "stream",
          "name": "stdout",
          "text": [
            "[ 0  1  2  3  4  5  6  7  8  9 10 11 12 13 14 15]\n",
            "[[ 0  1  2  3  4  5  6  7]\n",
            " [ 8  9 10 11 12 13 14 15]]\n"
          ]
        }
      ]
    },
    {
      "cell_type": "markdown",
      "source": [
        "3.\n",
        " \n",
        "[ [ [ 0  1]  \n",
        "    [ 2  3]  \n",
        "    [ 4  5]  \n",
        "    [ 6  7]  \n",
        "    [ 8  9]  \n",
        "    [10 11]  \n",
        "    [12 13]  \n",
        "    [14 15]]  ]  "
      ],
      "metadata": {
        "id": "592OJ3VlSerQ"
      }
    },
    {
      "cell_type": "code",
      "source": [
        "import numpy as np\n",
        "a=np.arange(16)\n",
        "b=a.reshape(1,8,2)\n",
        "\n",
        "print(a)\n",
        "print(b)"
      ],
      "metadata": {
        "id": "jZvIdvJDOyVY",
        "colab": {
          "base_uri": "https://localhost:8080/"
        },
        "outputId": "3c1898b4-6a8b-4ed1-d85d-41af5cd4bdd9"
      },
      "execution_count": null,
      "outputs": [
        {
          "output_type": "stream",
          "name": "stdout",
          "text": [
            "[ 0  1  2  3  4  5  6  7  8  9 10 11 12 13 14 15]\n",
            "[[[ 0  1]\n",
            "  [ 2  3]\n",
            "  [ 4  5]\n",
            "  [ 6  7]\n",
            "  [ 8  9]\n",
            "  [10 11]\n",
            "  [12 13]\n",
            "  [14 15]]]\n"
          ]
        }
      ]
    },
    {
      "cell_type": "markdown",
      "source": [
        "4. \n",
        "\n",
        "[ [[ 0]  \n",
        "   [ 1]  \n",
        "   [ 2]]  \n",
        "\n",
        " [ [ 3]  \n",
        "   [ 4]  \n",
        "   [ 5] ]  \n",
        "\n",
        " [ [ 6]  \n",
        "   [ 7]  \n",
        "   [ 8]  ]  \n",
        "\n",
        " [ [ 9]  \n",
        "   [10]  \n",
        "   [11] ] ]  \n"
      ],
      "metadata": {
        "id": "ajWBo2VXawqL"
      }
    },
    {
      "cell_type": "code",
      "source": [
        "import numpy as np\n",
        "a=np.arange(12)\n",
        "b=a.reshape(4, 3, 1)\n",
        "\n",
        "print(a)\n",
        "print(b)"
      ],
      "metadata": {
        "id": "pgi78cfkZ6NS",
        "colab": {
          "base_uri": "https://localhost:8080/"
        },
        "outputId": "899cad4d-d0b2-47fb-f476-7d441ccaf13e"
      },
      "execution_count": 4,
      "outputs": [
        {
          "output_type": "stream",
          "name": "stdout",
          "text": [
            "[ 0  1  2  3  4  5  6  7  8  9 10 11]\n",
            "[[[ 0]\n",
            "  [ 1]\n",
            "  [ 2]]\n",
            "\n",
            " [[ 3]\n",
            "  [ 4]\n",
            "  [ 5]]\n",
            "\n",
            " [[ 6]\n",
            "  [ 7]\n",
            "  [ 8]]\n",
            "\n",
            " [[ 9]\n",
            "  [10]\n",
            "  [11]]]\n"
          ]
        }
      ]
    },
    {
      "cell_type": "markdown",
      "source": [
        "5. [8]  \n",
        "\n"
      ],
      "metadata": {
        "id": "ZVFhVdHiXGs5"
      }
    },
    {
      "cell_type": "code",
      "source": [
        "import numpy as np\n",
        "a=np.array([[1,2,3,4],[5,6,7,8],[9,10,11,12]])\n",
        "b= a[1, 3].reshape(1)\n",
        "print(b)"
      ],
      "metadata": {
        "id": "Rtng0qrqXXy8",
        "colab": {
          "base_uri": "https://localhost:8080/"
        },
        "outputId": "eeb65a03-a851-4933-8c00-2168775897c5"
      },
      "execution_count": 5,
      "outputs": [
        {
          "output_type": "stream",
          "name": "stdout",
          "text": [
            "[8]\n"
          ]
        }
      ]
    }
  ]
}